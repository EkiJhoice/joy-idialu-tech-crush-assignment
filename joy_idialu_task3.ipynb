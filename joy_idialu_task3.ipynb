{
 "cells": [
  {
   "cell_type": "code",
   "execution_count": 2,
   "id": "9bdeba37-3b80-49ea-a0fc-dc1a8fadf9d1",
   "metadata": {},
   "outputs": [],
   "source": [
    "import pandas as pd\n",
    "\n",
    "orders = pd.read_csv('pizza_sales/orders.csv')\n",
    "order_details = pd.read_csv('pizza_sales/order_details.csv')\n",
    "pizzas = pd.read_csv('pizza_sales/pizzas.csv')\n",
    "pizza_types = pd.read_csv('pizza_sales/pizza_types.csv', encoding='latin1')\n"
   ]
  },
  {
   "cell_type": "code",
   "execution_count": 3,
   "id": "2cde3cf1-ef88-4836-8af8-072fa0619951",
   "metadata": {},
   "outputs": [],
   "source": [
    "merged = pd.merge(order_details, orders, on='order_id')         \n",
    "merged = pd.merge(merged, pizzas, on='pizza_id')                \n",
    "merged = pd.merge(merged, pizza_types, on='pizza_type_id')      "
   ]
  },
  {
   "cell_type": "code",
   "execution_count": 5,
   "id": "3150312a-9133-4b91-9fed-33d2d51d691a",
   "metadata": {},
   "outputs": [
    {
     "name": "stdout",
     "output_type": "stream",
     "text": [
      "   order_details_id  order_id       pizza_id  quantity        date      time  \\\n",
      "0                 1         1     hawaiian_m         1  2015-01-01  11:38:36   \n",
      "1                 2         2  classic_dlx_m         1  2015-01-01  11:57:40   \n",
      "2                 3         2  five_cheese_l         1  2015-01-01  11:57:40   \n",
      "3                 4         2    ital_supr_l         1  2015-01-01  11:57:40   \n",
      "4                 5         2     mexicana_m         1  2015-01-01  11:57:40   \n",
      "\n",
      "  pizza_type_id size  price                       name category  \\\n",
      "0      hawaiian    M  13.25         The Hawaiian Pizza  Classic   \n",
      "1   classic_dlx    M  16.00   The Classic Deluxe Pizza  Classic   \n",
      "2   five_cheese    L  18.50      The Five Cheese Pizza   Veggie   \n",
      "3     ital_supr    L  20.75  The Italian Supreme Pizza  Supreme   \n",
      "4      mexicana    M  16.00         The Mexicana Pizza   Veggie   \n",
      "\n",
      "                                         ingredients  \n",
      "0           Sliced Ham, Pineapple, Mozzarella Cheese  \n",
      "1  Pepperoni, Mushrooms, Red Onions, Red Peppers,...  \n",
      "2  Mozzarella Cheese, Provolone Cheese, Smoked Go...  \n",
      "3  Calabrese Salami, Capocollo, Tomatoes, Red Oni...  \n",
      "4  Tomatoes, Red Peppers, Jalapeno Peppers, Red O...  \n"
     ]
    }
   ],
   "source": [
    "merged.to_csv('pizza_sales.csv', index=False)\n",
    "\n",
    "print(merged.head())"
   ]
  },
  {
   "cell_type": "markdown",
   "id": "dd208051-f6a4-4020-a89b-1148af5263ca",
   "metadata": {},
   "source": [
    "1. "
   ]
  },
  {
   "cell_type": "code",
   "execution_count": 7,
   "id": "7ee73f06-a9dc-49d0-8270-cd53010977d6",
   "metadata": {},
   "outputs": [
    {
     "name": "stdout",
     "output_type": "stream",
     "text": [
      "Total revenue for the year: $817,860.05\n"
     ]
    }
   ],
   "source": [
    "# Creating a column for the total price per order line\n",
    "merged['total_price'] = merged['quantity'] * merged['price']\n",
    "\n",
    "# Calculate total revenue\n",
    "total_revenue = merged['total_price'].sum()\n",
    "\n",
    "# print\n",
    "print(f\"Total revenue for the year: ${total_revenue:,.2f}\")\n"
   ]
  },
  {
   "cell_type": "code",
   "execution_count": null,
   "id": "d0f1ca1c-c494-4c49-a8ec-7e9770196be4",
   "metadata": {},
   "outputs": [],
   "source": [
    "## "
   ]
  },
  {
   "cell_type": "code",
   "execution_count": 9,
   "id": "2f9506a4-f3b0-4aa9-a74a-e51da7bbd69d",
   "metadata": {},
   "outputs": [
    {
     "name": "stdout",
     "output_type": "stream",
     "text": [
      "Total quantity of pizzas sold: 49,574\n"
     ]
    }
   ],
   "source": [
    "total_quantity = merged['quantity'].sum()\n",
    "print(f\"Total quantity of pizzas sold: {total_quantity:,}\")\n"
   ]
  },
  {
   "cell_type": "markdown",
   "id": "d0d38285-8998-4ed7-b5a9-4316df1fa783",
   "metadata": {},
   "source": [
    "3. "
   ]
  },
  {
   "cell_type": "code",
   "execution_count": 10,
   "id": "9e207c5e-4377-45d8-bcfb-d3831e5d1fb2",
   "metadata": {},
   "outputs": [
    {
     "name": "stdout",
     "output_type": "stream",
     "text": [
      "Total number of orders: 21,350\n"
     ]
    }
   ],
   "source": [
    "total_orders = merged['order_id'].nunique()\n",
    "print(f\"Total number of orders: {total_orders:,}\")\n"
   ]
  },
  {
   "cell_type": "markdown",
   "id": "dbb07e64-4276-4db5-a251-4c34de25072a",
   "metadata": {},
   "source": [
    "4. "
   ]
  },
  {
   "cell_type": "code",
   "execution_count": 11,
   "id": "1a42ba71-dfb2-4eef-8717-190d1407ebb5",
   "metadata": {},
   "outputs": [
    {
     "name": "stdout",
     "output_type": "stream",
     "text": [
      "Total number of distinct pizza types: 32\n"
     ]
    }
   ],
   "source": [
    "pizza_types_count = merged['pizza_type_id'].nunique()\n",
    "print(f\"Total number of distinct pizza types: {pizza_types_count}\")\n"
   ]
  },
  {
   "cell_type": "markdown",
   "id": "8d4c1705-0fdd-4087-a863-8c64f2d5db9d",
   "metadata": {},
   "source": [
    "5."
   ]
  },
  {
   "cell_type": "code",
   "execution_count": 12,
   "id": "27f94c7f-c56a-402e-a44e-2c4cd62dd7d0",
   "metadata": {},
   "outputs": [
    {
     "name": "stdout",
     "output_type": "stream",
     "text": [
      "Average pizza price: $16.49\n"
     ]
    }
   ],
   "source": [
    "average_price = merged['price'].mean()\n",
    "print(f\"Average pizza price: ${average_price:.2f}\")\n"
   ]
  },
  {
   "cell_type": "code",
   "execution_count": 13,
   "id": "206d94ce-7856-4dde-a705-e0d6b67e7105",
   "metadata": {},
   "outputs": [
    {
     "name": "stderr",
     "output_type": "stream",
     "text": [
      "C:\\Users\\user\\AppData\\Local\\Temp\\ipykernel_6856\\3037695966.py:4: UserWarning: Could not infer format, so each element will be parsed individually, falling back to `dateutil`. To ensure parsing is consistent and as-expected, please specify a format.\n",
      "  merged['time'] = pd.to_datetime(merged['time'])\n"
     ]
    },
    {
     "name": "stdout",
     "output_type": "stream",
     "text": [
      "Top 5 peak sales hours:\n",
      "hour\n",
      "12    111877.90\n",
      "13    106065.70\n",
      "18     89296.85\n",
      "17     86237.45\n",
      "19     72628.90\n",
      "Name: total_price, dtype: float64\n"
     ]
    }
   ],
   "source": [
    "import matplotlib.pyplot as plt\n",
    "\n",
    "# Ensure 'time' is in datetime format\n",
    "merged['time'] = pd.to_datetime(merged['time'])\n",
    "\n",
    "# Extract the hour\n",
    "merged['hour'] = merged['time'].dt.hour\n",
    "\n",
    "# Group by hour and sum total sales\n",
    "sales_by_hour = merged.groupby('hour')['total_price'].sum().sort_values(ascending=False)\n",
    "\n",
    "# Print top 5 peak hours\n",
    "print(\"Top 5 peak sales hours:\")\n",
    "print(sales_by_hour.head())\n",
    "\n",
    "\n"
   ]
  },
  {
   "cell_type": "markdown",
   "id": "a7b14a9a-57f8-435f-8c3b-61af66a11ac2",
   "metadata": {},
   "source": [
    "7."
   ]
  },
  {
   "cell_type": "code",
   "execution_count": 16,
   "id": "6140c3c4-814f-4aab-85f8-52fd4bc2540c",
   "metadata": {},
   "outputs": [
    {
     "name": "stdout",
     "output_type": "stream",
     "text": [
      "Total sales by day of the week:\n",
      "day_of_week\n",
      "Friday       136073.90\n",
      "Thursday     123528.50\n",
      "Saturday     123182.40\n",
      "Wednesday    114408.40\n",
      "Tuesday      114133.80\n",
      "Monday       107329.55\n",
      "Sunday        99203.50\n",
      "Name: total_price, dtype: float64\n"
     ]
    }
   ],
   "source": [
    "\n",
    "# Ensure 'date' is in datetime format\n",
    "merged['date'] = pd.to_datetime(merged['date'])\n",
    "\n",
    "# Extract day of the week (e.g., Monday, Tuesday)\n",
    "merged['day_of_week'] = merged['date'].dt.day_name()\n",
    "\n",
    "# Group by day of the week and sum sales\n",
    "sales_by_day = merged.groupby('day_of_week')['total_price'].sum().sort_values(ascending=False)\n",
    "\n",
    "# Print results\n",
    "print(\"Total sales by day of the week:\")\n",
    "print(sales_by_day)\n"
   ]
  },
  {
   "cell_type": "markdown",
   "id": "3c3335be-5c2f-4332-b02b-69af640b56f3",
   "metadata": {},
   "source": [
    "8."
   ]
  },
  {
   "cell_type": "code",
   "execution_count": 19,
   "id": "a933eb14-0fe7-44c0-9722-6145b1b5d8de",
   "metadata": {},
   "outputs": [
    {
     "name": "stdout",
     "output_type": "stream",
     "text": [
      "Top 5 best-selling pizzas:\n",
      "name\n",
      "The Classic Deluxe Pizza      2453\n",
      "The Barbecue Chicken Pizza    2432\n",
      "The Hawaiian Pizza            2422\n",
      "The Pepperoni Pizza           2418\n",
      "The Thai Chicken Pizza        2371\n",
      "Name: quantity, dtype: int64\n"
     ]
    }
   ],
   "source": [
    "# Group by pizza name and sum the quantity sold\n",
    "top_pizzas = merged.groupby('name')['quantity'].sum().sort_values(ascending=False).head(5)\n",
    "\n",
    "# Display the result\n",
    "print(\"Top 5 best-selling pizzas:\")\n",
    "print(top_pizzas)\n"
   ]
  },
  {
   "cell_type": "markdown",
   "id": "b04c6aff-29b2-403e-9e99-adee6da05c27",
   "metadata": {},
   "source": [
    "9."
   ]
  },
  {
   "cell_type": "code",
   "execution_count": 21,
   "id": "d778b062-386b-48cb-a94c-afafae6a5a5b",
   "metadata": {},
   "outputs": [],
   "source": [
    "# Convert date column to datetime\n",
    "merged['date'] = pd.to_datetime(merged['date'])\n",
    "\n",
    "# Create a new column for 'month' as \"YYYY-MM\"\n",
    "merged['month'] = merged['date'].dt.to_period('M').astype(str)\n",
    "\n",
    "# Group by month and calculate total sales\n",
    "monthly_sales = merged.groupby('month')['total_price'].sum().sort_index()\n"
   ]
  },
  {
   "cell_type": "code",
   "execution_count": 22,
   "id": "4a65e1fb-af62-4ed7-96b1-8609a54ff858",
   "metadata": {},
   "outputs": [
    {
     "data": {
      "image/png": "[encoded data removed]",
      "text/plain": [
       "<Figure size 1000x500 with 1 Axes>"
      ]
     },
     "metadata": {},
     "output_type": "display_data"
    }
   ],
   "source": [
    "import matplotlib.pyplot as plt\n",
    "\n",
    "monthly_sales.plot(kind='line', marker='o', figsize=(10,5), title='Monthly Sales Trend', xlabel='Month', ylabel='Revenue')\n",
    "plt.xticks(rotation=45)\n",
    "plt.grid(True)\n",
    "plt.tight_layout()\n",
    "plt.show()\n"
   ]
  },
  {
   "cell_type": "markdown",
   "id": "6839c41a-42d6-4ecd-8384-3638f0696aa0",
   "metadata": {},
   "source": [
    "10."
   ]
  },
  {
   "cell_type": "code",
   "execution_count": 23,
   "id": "7a812978-b929-4fec-a339-0cfa709ad879",
   "metadata": {},
   "outputs": [
    {
     "name": "stdout",
     "output_type": "stream",
     "text": [
      "Bottom 5 least-selling pizzas:\n",
      "name\n",
      "The Brie Carre Pizza         490\n",
      "The Mediterranean Pizza      934\n",
      "The Calabrese Pizza          937\n",
      "The Spinach Supreme Pizza    950\n",
      "The Soppressata Pizza        961\n",
      "Name: quantity, dtype: int64\n"
     ]
    }
   ],
   "source": [
    "# Group by pizza name and sum quantity sold\n",
    "low_selling = merged.groupby('name')['quantity'].sum().sort_values().head(5)\n",
    "\n",
    "# Display the result\n",
    "print(\"Bottom 5 least-selling pizzas:\")\n",
    "print(low_selling)\n"
   ]
  },
  {
   "cell_type": "code",
   "execution_count": null,
   "id": "7383fa21-912e-4220-9589-5e575309b2c2",
   "metadata": {},
   "outputs": [],
   "source": []
  }
 ],
 "metadata": {
  "kernelspec": {
   "display_name": "Python 3 (ipykernel)",
   "language": "python",
   "name": "python3"
  },
  "language_info": {
   "codemirror_mode": {
    "name": "ipython",
    "version": 3
   },
   "file_extension": ".py",
   "mimetype": "text/x-python",
   "name": "python",
   "nbconvert_exporter": "python",
   "pygments_lexer": "ipython3",
   "version": "3.12.7"
  }
 },
 "nbformat": 4,
 "nbformat_minor": 5
}
